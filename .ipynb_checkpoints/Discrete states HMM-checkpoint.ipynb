{
 "cells": [
  {
   "cell_type": "markdown",
   "metadata": {},
   "source": [
    "# HMM"
   ]
  },
  {
   "cell_type": "code",
   "execution_count": 1,
   "metadata": {},
   "outputs": [],
   "source": [
    "import numpy as np"
   ]
  },
  {
   "cell_type": "code",
   "execution_count": 2,
   "metadata": {},
   "outputs": [],
   "source": [
    "#number of hidden states: (i:intragenic - p:promoter - c:coding - a:polyA)\n",
    "n_x = 4 \n",
    "\n",
    "#names of hidden states\n",
    "names_x = [\"i\", \"p\",\"c\",\"a\"]\n",
    "\n",
    "#number of revealed states: (A - T - G - C)\n",
    "n_y = 4 \n",
    "\n",
    "#names of revealed states\n",
    "names_y = [\"A\", \"T\",\"G\",\"C\"]\n",
    "\n",
    "#transition matrix for hidden states: model assumption, use P_x[x_prev, x_new]\n",
    "P_x = np.array([\n",
    "    [9/10, 1/10, 0, 0],\n",
    "    [0, 4/5, 1/5, 0],\n",
    "    [0, 0, 9/10, 1/10],\n",
    "    [1/6, 0, 0, 5/6]\n",
    "])\n",
    "\n",
    "#transition matrix for revealed states: model assumption, use P_x_y[x,y]\n",
    "P_x_y = np.array([\n",
    "    [0.25, 0.25, 0.25, 0.25], #intergenic \n",
    "    [0.1, 0.1, 0.4, 0.4], #promoter\n",
    "    [0.1, 0.2, 0.3, 0.4], #coding\n",
    "    [0.7, 0.1, 0.1, 0.1] #polyA\n",
    "])\n",
    "\n",
    "\n",
    "#starting prior\n",
    "mu_0 = np.array([0.25, 0.25, 0.25, 0.25])\n",
    "\n",
    "#time \n",
    "t = 500"
   ]
  },
  {
   "cell_type": "code",
   "execution_count": 3,
   "metadata": {},
   "outputs": [],
   "source": [
    "def sample_X():\n",
    "    X = [np.random.choice(n_x,p=mu_0)]\n",
    "    for _ in range(1,t):\n",
    "        x = X[-1]\n",
    "        X.append(np.random.choice(n_x, p = P_x[x,:]))\n",
    "    return X\n",
    "\n",
    "def sample_Y(X):\n",
    "    Y=[]\n",
    "    for x in X:\n",
    "        Y.append(np.random.choice(n_y, p = P_x_y[x,:]))\n",
    "    return Y\n",
    "\n",
    "def show_names(X,Y):\n",
    "    seq_x = \"\"\n",
    "    seq_y = \"\"\n",
    "    for i in range(len(X)):\n",
    "        if (i%10==0 and i>0):\n",
    "            seq_x+= \" \"\n",
    "            seq_y+= \" \"\n",
    "        seq_x = seq_x + names_x[X[i]]\n",
    "        seq_y = seq_y + names_y[Y[i]]\n",
    "        \n",
    "    print(seq_x)\n",
    "    print(\"\")\n",
    "    print(seq_y)"
   ]
  },
  {
   "cell_type": "code",
   "execution_count": 4,
   "metadata": {},
   "outputs": [
    {
     "name": "stdout",
     "output_type": "stream",
     "text": [
      "ppccccaaai iipcaaaaii iiiiiipppp ppppcccccc cccccccccc cccccccccc cccccccccc cccaaaiiii ippccccccc aaaaaiipcc cccccccccc cccccccaaa iiiiiiiiii iiippppppp ppppccccaa aaiiiiiiii iiiiipcccc ccccccccca iiiiiipppp ppcccccccc ccccccccca iiiiiiiiii pppccccccc cccccaaaaa aaaaaaaaii iiiiiiiiii iiiiiiiiii iiiiiiiiii iiiiiiippp cccccccccc cccccaaaii iiiiiiiiip pppppppppp ppppppcccc cccaaiiiii ipcccccccc caaaaaaaii iipppppppp pppppccccc cccccccaai pccccccaaa iiiiiiiiii iiipcccaai iiiiiiiiii ippppppccc ccccaaaaaa aaaaaaaaip pcaaaaaaaa aaaiiiiiii iiiiiiiiii\n",
      "\n",
      "AGCCCGAAAT CGGGAAAAGC CCATTACGGC TGCCACTCCC GCTCGCTGCC CCATCGTTGG TAATGCCCCC CATAAACCGT CGGTGCTGGC CAAGCACGCC CTCGTCCTGG CTATCTCATC TTTCTGATAT TTGGACGGGG GCTCCGTTAA AAATCAACCT AGTTTCTGTG TCGCCGAGCT TGTCGAACGC CAGGGCGCCC AGGCTCTCAA TCTACCTTGA GCCTGCGCCT GCGCGGAAAC AAGAGAAGAC TTCCCCAGGT AAGTAACATA ACGAATCCCC TGCGCTTGGC AGGTTTCTAC CCTCGATGCT GGTAAGTTTT GCTCGACCAC CGCGGCGTGC CTCAAGATTT AACCCTCTTT TAAAAATGGC AGGTGGCGAC CGCCGCCGCC GCCCCCTAAA CGCGCCGCAA TTGGACGAGC GTCCCGTAGA CAAGACGTCC AGGTCGCTCT CGCGTACCAA AAAAAGAAAG ATAAAAAAGA ATACGCCTTC TCACATAAGC\n"
     ]
    }
   ],
   "source": [
    "X = sample_X()\n",
    "Y = sample_Y(X)\n",
    "show_names(X,Y)"
   ]
  },
  {
   "cell_type": "code",
   "execution_count": 5,
   "metadata": {},
   "outputs": [],
   "source": [
    "with open(\"ml_hmm_regions.txt\",'r') as f:\n",
    "    reg = f.read()\n",
    "\n",
    "reg = reg.replace(\"\\n\",\"\")\n",
    "X_test = [names_x.index(s) for s in reg]\n",
    "\n",
    "with open(\"ml_hmm_seq.txt\",'r') as f:\n",
    "    seq = f.read()\n",
    "\n",
    "seq = seq.replace(\"\\n\",\"\")\n",
    "Y_test = [names_y.index(s) for s in seq]"
   ]
  },
  {
   "cell_type": "code",
   "execution_count": 6,
   "metadata": {},
   "outputs": [],
   "source": [
    "def forward_pass(Y):\n",
    "    m_0 = np.sum(mu_0[:]*P_x_y[:, Y[0]]*P_x.T[:,:], axis =1)\n",
    "    f_messages = [m_0/m_0.sum()]\n",
    "    for i in range(1,t-1):\n",
    "        m_prev = f_messages[-1]\n",
    "        m_new = np.sum(m_prev[:]*P_x_y[:, Y[i]]*P_x.T[:,:], axis =1)\n",
    "        f_messages.append(m_new/m_new.sum())\n",
    "    return f_messages\n",
    "\n",
    "def backward_pass(Y):\n",
    "    m_0 = np.sum(P_x_y[:,Y[t-1]]*P_x[:,:], axis =1)\n",
    "    b_messages = [m_0/m_0.sum()]\n",
    "    for i in range(t-2,0,-1):\n",
    "        m_prev = b_messages[-1]\n",
    "        m_new = np.sum(m_prev[:]*P_x_y[:, Y[i]]*P_x[:,:], axis =1)\n",
    "        b_messages.append(m_new/m_new.sum())\n",
    "    return b_messages\n",
    "\n",
    "def posterior(f_messages, b_messages):\n",
    "    \"\"\"\n",
    "        Returns posterior beliefs\n",
    "    \"\"\"\n",
    "    beliefs = []\n",
    "    belief_0 = mu_0[:]*P_x_y[:,Y[0]]*b_messages[t-2]\n",
    "    beliefs.append(belief_0/belief_0.sum())\n",
    "    for i in range(1,t-1):\n",
    "        belief_i = f_messages[i-1]*P_x_y[:,Y[i]]*b_messages[t-2-i]#2-i]\n",
    "        beliefs.append(belief_i/belief_i.sum())\n",
    "    belief_last = f_messages[t-2]*P_x_y[:,Y[t-1]]\n",
    "    beliefs.append(belief_last/belief_last.sum())\n",
    "    #for first el\n",
    "    return(beliefs)"
   ]
  },
  {
   "cell_type": "code",
   "execution_count": 7,
   "metadata": {},
   "outputs": [
    {
     "data": {
      "text/plain": [
       "0.68"
      ]
     },
     "execution_count": 7,
     "metadata": {},
     "output_type": "execute_result"
    }
   ],
   "source": [
    "f_messages = forward_pass(Y_test)\n",
    "b_messages = backward_pass(Y_test)\n",
    "posteriors = posterior(f_messages,b_messages)\n",
    "\n",
    "X_guess_test = [np.argmax(post) for post in posteriors]\n",
    "\n",
    "np.mean(np.equal(X_test,X_guess_test))"
   ]
  },
  {
   "cell_type": "code",
   "execution_count": 18,
   "metadata": {},
   "outputs": [
    {
     "data": {
      "text/plain": [
       "0.6666666666666666"
      ]
     },
     "execution_count": 18,
     "metadata": {},
     "output_type": "execute_result"
    }
   ],
   "source": [
    "X = sample_X()\n",
    "Y = sample_Y(X)\n",
    "f_messages = forward_pass(Y)\n",
    "b_messages = backward_pass(Y)\n",
    "\n",
    "X_guess = [np.argmax(post) for post in posterior(f_messages,b_messages)]\n",
    "\n",
    "np.mean(np.equal(X,X_guess))"
   ]
  },
  {
   "cell_type": "code",
   "execution_count": 19,
   "metadata": {},
   "outputs": [
    {
     "data": {
      "text/plain": [
       "0.752"
      ]
     },
     "execution_count": 19,
     "metadata": {},
     "output_type": "execute_result"
    }
   ],
   "source": [
    "(500-124)/500"
   ]
  },
  {
   "cell_type": "markdown",
   "metadata": {},
   "source": [
    "## Unitary tests"
   ]
  },
  {
   "cell_type": "code",
   "execution_count": 34,
   "metadata": {},
   "outputs": [],
   "source": [
    "n_x = 2\n",
    "n_y = 2\n",
    "P_x = np.array([\n",
    "    [9/10, 1/10],\n",
    "    [1/10, 9/10]\n",
    "])\n",
    "\n",
    "P_x_y = np.array([\n",
    "    [3/4, 1/4],\n",
    "    [1/4, 3/4]\n",
    "])\n",
    "\n",
    "X = [0,0]#,0]\n",
    "Y = [0,1]#,0]\n",
    "\n",
    "mu_0 = [0.5,0.5]\n",
    "\n",
    "t = 2"
   ]
  },
  {
   "cell_type": "code",
   "execution_count": 35,
   "metadata": {},
   "outputs": [
    {
     "data": {
      "text/plain": [
       "[array([0.7, 0.3])]"
      ]
     },
     "execution_count": 35,
     "metadata": {},
     "output_type": "execute_result"
    }
   ],
   "source": [
    "f_messages = forward_pass(Y)\n",
    "f_messages"
   ]
  },
  {
   "cell_type": "code",
   "execution_count": 36,
   "metadata": {},
   "outputs": [
    {
     "data": {
      "text/plain": [
       "[array([0.3, 0.7])]"
      ]
     },
     "execution_count": 36,
     "metadata": {},
     "output_type": "execute_result"
    }
   ],
   "source": [
    "b_messages = backward_pass(Y)\n",
    "b_messages"
   ]
  },
  {
   "cell_type": "code",
   "execution_count": 37,
   "metadata": {},
   "outputs": [],
   "source": [
    "posteriors = posterior(f_messages,b_messages)"
   ]
  },
  {
   "cell_type": "code",
   "execution_count": 38,
   "metadata": {},
   "outputs": [
    {
     "data": {
      "text/plain": [
       "[array([0.5625, 0.4375]), array([0.4375, 0.5625])]"
      ]
     },
     "execution_count": 38,
     "metadata": {},
     "output_type": "execute_result"
    }
   ],
   "source": [
    "posteriors"
   ]
  },
  {
   "cell_type": "code",
   "execution_count": 41,
   "metadata": {},
   "outputs": [
    {
     "data": {
      "text/plain": [
       "0.625"
      ]
     },
     "execution_count": 41,
     "metadata": {},
     "output_type": "execute_result"
    }
   ],
   "source": [
    "3/4*(3/4)+1/4*(1/4)"
   ]
  },
  {
   "cell_type": "code",
   "execution_count": null,
   "metadata": {},
   "outputs": [],
   "source": []
  }
 ],
 "metadata": {
  "kernelspec": {
   "display_name": "Python 3",
   "language": "python",
   "name": "python3"
  },
  "language_info": {
   "codemirror_mode": {
    "name": "ipython",
    "version": 3
   },
   "file_extension": ".py",
   "mimetype": "text/x-python",
   "name": "python",
   "nbconvert_exporter": "python",
   "pygments_lexer": "ipython3",
   "version": "3.7.3"
  }
 },
 "nbformat": 4,
 "nbformat_minor": 2
}
